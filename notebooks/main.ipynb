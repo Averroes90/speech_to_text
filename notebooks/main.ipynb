{
 "cells": [
  {
   "cell_type": "code",
   "execution_count": null,
   "metadata": {},
   "outputs": [],
   "source": [
    "import utils.utils as utils\n",
    "import app\n",
    "import ipywidgets as widgets\n",
    "from IPython.display import display\n",
    "\n",
    "source_language = \"it\"\n",
    "target_language = \"en\""
   ]
  },
  {
   "cell_type": "code",
   "execution_count": null,
   "metadata": {},
   "outputs": [],
   "source": [
    "# Create a button for file selection\n",
    "file_paths = []\n",
    "button = widgets.Button(description=\"Browse Files\")\n",
    "output = widgets.Output()\n",
    "\n",
    "\n",
    "def on_button_clicked(b):\n",
    "    with output:\n",
    "        global file_paths\n",
    "        file_paths = utils.select_files()\n",
    "\n",
    "\n",
    "button.on_click(on_button_clicked)\n",
    "display(button, output)"
   ]
  },
  {
   "cell_type": "code",
   "execution_count": null,
   "metadata": {},
   "outputs": [],
   "source": [
    "service = \"openai\"\n",
    "for file_path in file_paths:\n",
    "    srt_response1 = app.transcribe_translate(\n",
    "        file_path=file_path,\n",
    "        service_name=service,\n",
    "        source_language=source_language,\n",
    "        target_language=target_language,\n",
    "    )\n",
    "    print(srt_response1)\n",
    "    download_path = utils.replace_extension(\n",
    "        file_path=file_path, end_modifiers=f\"_{service}\", new_extension=\".srt\"\n",
    "    )\n",
    "    utils.save_srt_data(srt_data=srt_response1, file_path=download_path)"
   ]
  },
  {
   "cell_type": "code",
   "execution_count": null,
   "metadata": {},
   "outputs": [],
   "source": [
    "service = \"google\"\n",
    "for file_path in file_paths:\n",
    "    srt_response2 = app.transcribe_translate(\n",
    "        file_path=file_path,\n",
    "        service_name=service,\n",
    "        source_language=source_language,\n",
    "        target_language=target_language,\n",
    "    )\n",
    "    print(srt_response2)\n",
    "    download_path = utils.replace_extension(\n",
    "        file_path=file_path, end_modifiers=f\"_{service}\", new_extension=\".srt\"\n",
    "    )\n",
    "    utils.save_srt_data(srt_data=srt_response2, file_path=download_path)"
   ]
  },
  {
   "cell_type": "code",
   "execution_count": null,
   "metadata": {},
   "outputs": [],
   "source": [
    "# multiple concurrent transcriptions\n",
    "services = [\"openai\", \"google\"]\n",
    "for file_path in file_paths:\n",
    "    all_responses = app.multi_transcribe(\n",
    "        file_path=file_path,\n",
    "        service_names=services,\n",
    "        source_language=source_language,\n",
    "        target_language=target_language,\n",
    "        audio_output_extension=\".mp3\",\n",
    "    )\n",
    "    for service, srt_response in all_responses.items():\n",
    "        print(f\"{service} {srt_response}\")\n",
    "        download_path = utils.replace_extension(\n",
    "            file_path=file_path, end_modifiers=f\"_{service}\", new_extension=\".srt\"\n",
    "        )\n",
    "        utils.save_srt_data(srt_data=srt_response, file_path=download_path)"
   ]
  }
 ],
 "metadata": {
  "kernelspec": {
   "display_name": "venv",
   "language": "python",
   "name": "python3"
  },
  "language_info": {
   "name": "python",
   "version": "3.12.2"
  }
 },
 "nbformat": 4,
 "nbformat_minor": 2
}
